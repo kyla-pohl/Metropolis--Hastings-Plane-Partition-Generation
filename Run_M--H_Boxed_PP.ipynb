{
 "cells": [
  {
   "cell_type": "code",
   "execution_count": 4,
   "metadata": {
    "collapsed": false,
    "jupyter": {
     "outputs_hidden": false
    }
   },
   "outputs": [],
   "source": [
    "# Import the py file with all of the required functions.\n",
    "load(\"Objects_for_M--H_Boxed_PP.sage\")"
   ]
  },
  {
   "cell_type": "code",
   "execution_count": 6,
   "metadata": {},
   "outputs": [
    {
     "data": {
      "image/svg+xml": [
       "<?xml version=\"1.0\" standalone=\"no\"?><!DOCTYPE svg PUBLIC \"-//W3C//DTD SVG 1.1//EN\" \"http://www.w3.org/Graphics/SVG/1.1/DTD/svg11.dtd\"><svg xmlns=\"http://www.w3.org/2000/svg\" xmlns:xlink=\"http://www.w3.org/1999/xlink\" width=\"300\" viewBox=\"-8.660 -10.000 17.320 20.000 \"><defs><polygon points=\"0, 0 -0.866, 0.5 0, 1 0.866, 0.5\" id=\"cz\" style=\"fill:snow\"/><polygon points=\"0, 0 0.866, 0.5 0.866, -0.5 0, -1\" id=\"cx\" style=\"fill:tomato\"/><polygon points=\"0, 0 0, -1 -0.866, -0.5 -0.866, 0.5\" id=\"cy\" style=\"fill:steelblue\"/></defs><g style=\"stroke-width:0.01;stroke-linejoin:bevel; stroke-linecap:butt; stroke:black; fill:red\"><use transform=\"translate(0.000, -10.000)\" xlink:href=\"#cz\" /><use transform=\"translate(0.866, -9.500)\" xlink:href=\"#cz\" /><use transform=\"translate(1.732, -9.000)\" xlink:href=\"#cz\" /><use transform=\"translate(2.598, -8.500)\" xlink:href=\"#cz\" /><use transform=\"translate(3.464, -8.000)\" xlink:href=\"#cz\" /><use transform=\"translate(4.330, -6.500)\" xlink:href=\"#cz\" /><use transform=\"translate(5.196, -4.000)\" xlink:href=\"#cz\" /><use transform=\"translate(6.062, -2.500)\" xlink:href=\"#cz\" /><use transform=\"translate(6.928, 0.000)\" xlink:href=\"#cz\" /><use transform=\"translate(7.794, 1.500)\" xlink:href=\"#cz\" /><use transform=\"translate(-0.866, -9.500)\" xlink:href=\"#cz\" /><use transform=\"translate(0.000, -9.000)\" xlink:href=\"#cz\" /><use transform=\"translate(0.866, -8.500)\" xlink:href=\"#cz\" /><use transform=\"translate(1.732, -8.000)\" xlink:href=\"#cz\" /><use transform=\"translate(2.598, -6.500)\" xlink:href=\"#cz\" /><use transform=\"translate(3.464, -3.000)\" xlink:href=\"#cz\" /><use transform=\"translate(4.330, -0.500)\" xlink:href=\"#cz\" /><use transform=\"translate(5.196, 0.000)\" xlink:href=\"#cz\" /><use transform=\"translate(6.062, 1.500)\" xlink:href=\"#cz\" /><use transform=\"translate(-1.732, -9.000)\" xlink:href=\"#cz\" /><use transform=\"translate(-0.866, -8.500)\" xlink:href=\"#cz\" /><use transform=\"translate(0.000, -7.000)\" xlink:href=\"#cz\" /><use transform=\"translate(0.866, -6.500)\" xlink:href=\"#cz\" /><use transform=\"translate(1.732, -6.000)\" xlink:href=\"#cz\" /><use transform=\"translate(2.598, -2.500)\" xlink:href=\"#cz\" /><use transform=\"translate(3.464, 0.000)\" xlink:href=\"#cz\" /><use transform=\"translate(4.330, 1.500)\" xlink:href=\"#cz\" /><use transform=\"translate(5.196, 2.000)\" xlink:href=\"#cz\" /><use transform=\"translate(-2.598, -8.500)\" xlink:href=\"#cz\" /><use transform=\"translate(-1.732, -7.000)\" xlink:href=\"#cz\" /><use transform=\"translate(-0.866, -5.500)\" xlink:href=\"#cz\" /><use transform=\"translate(0.000, -4.000)\" xlink:href=\"#cz\" /><use transform=\"translate(0.866, -2.500)\" xlink:href=\"#cz\" /><use transform=\"translate(1.732, -1.000)\" xlink:href=\"#cz\" /><use transform=\"translate(2.598, 0.500)\" xlink:href=\"#cz\" /><use transform=\"translate(3.464, 4.000)\" xlink:href=\"#cz\" /><use transform=\"translate(4.330, 4.500)\" xlink:href=\"#cz\" /><use transform=\"translate(-3.464, -5.000)\" xlink:href=\"#cz\" /><use transform=\"translate(-2.598, -3.500)\" xlink:href=\"#cz\" /><use transform=\"translate(-1.732, -3.000)\" xlink:href=\"#cz\" /><use transform=\"translate(-0.866, -2.500)\" xlink:href=\"#cz\" /><use transform=\"translate(0.000, -2.000)\" xlink:href=\"#cz\" /><use transform=\"translate(0.866, 1.500)\" xlink:href=\"#cz\" /><use transform=\"translate(1.732, 3.000)\" xlink:href=\"#cz\" /><use transform=\"translate(2.598, 4.500)\" xlink:href=\"#cz\" /><use transform=\"translate(3.464, 5.000)\" xlink:href=\"#cz\" /><use transform=\"translate(-4.330, -3.500)\" xlink:href=\"#cz\" /><use transform=\"translate(-3.464, -3.000)\" xlink:href=\"#cz\" /><use transform=\"translate(-2.598, -2.500)\" xlink:href=\"#cz\" /><use transform=\"translate(-1.732, -1.000)\" xlink:href=\"#cz\" /><use transform=\"translate(-0.866, -0.500)\" xlink:href=\"#cz\" /><use transform=\"translate(0.000, 3.000)\" xlink:href=\"#cz\" /><use transform=\"translate(0.866, 3.500)\" xlink:href=\"#cz\" /><use transform=\"translate(1.732, 5.000)\" xlink:href=\"#cz\" /><use transform=\"translate(-5.196, -3.000)\" xlink:href=\"#cz\" /><use transform=\"translate(-4.330, -1.500)\" xlink:href=\"#cz\" /><use transform=\"translate(-3.464, -1.000)\" xlink:href=\"#cz\" /><use transform=\"translate(-2.598, -0.500)\" xlink:href=\"#cz\" /><use transform=\"translate(-1.732, 1.000)\" xlink:href=\"#cz\" /><use transform=\"translate(-0.866, 3.500)\" xlink:href=\"#cz\" /><use transform=\"translate(-6.062, -2.500)\" xlink:href=\"#cz\" /><use transform=\"translate(-5.196, -1.000)\" xlink:href=\"#cz\" /><use transform=\"translate(-4.330, -0.500)\" xlink:href=\"#cz\" /><use transform=\"translate(-3.464, 0.000)\" xlink:href=\"#cz\" /><use transform=\"translate(-2.598, 2.500)\" xlink:href=\"#cz\" /><use transform=\"translate(-1.732, 5.000)\" xlink:href=\"#cz\" /><use transform=\"translate(-6.928, 0.000)\" xlink:href=\"#cz\" /><use transform=\"translate(-6.062, 0.500)\" xlink:href=\"#cz\" /><use transform=\"translate(-5.196, 1.000)\" xlink:href=\"#cz\" /><use transform=\"translate(-4.330, 3.500)\" xlink:href=\"#cz\" /><use transform=\"translate(-7.794, 0.500)\" xlink:href=\"#cz\" /><use transform=\"translate(-6.928, 1.000)\" xlink:href=\"#cz\" /><use transform=\"translate(-6.062, 2.500)\" xlink:href=\"#cz\" /><use transform=\"translate(-5.196, 4.000)\" xlink:href=\"#cz\" /><use transform=\"translate(8.660, 5.000)\" xlink:href=\"#cy\" /><use transform=\"translate(6.928, 5.000)\" xlink:href=\"#cy\" /><use transform=\"translate(6.062, 5.500)\" xlink:href=\"#cy\" /><use transform=\"translate(5.196, 6.000)\" xlink:href=\"#cy\" /><use transform=\"translate(4.330, 6.500)\" xlink:href=\"#cy\" /><use transform=\"translate(2.598, 6.500)\" xlink:href=\"#cy\" /><use transform=\"translate(0.000, 6.000)\" xlink:href=\"#cy\" /><use transform=\"translate(-0.866, 6.500)\" xlink:href=\"#cy\" /><use transform=\"translate(-3.464, 6.000)\" xlink:href=\"#cy\" /><use transform=\"translate(-4.330, 6.500)\" xlink:href=\"#cy\" /><use transform=\"translate(8.660, 4.000)\" xlink:href=\"#cy\" /><use transform=\"translate(6.928, 4.000)\" xlink:href=\"#cy\" /><use transform=\"translate(6.062, 4.500)\" xlink:href=\"#cy\" /><use transform=\"translate(3.464, 4.000)\" xlink:href=\"#cy\" /><use transform=\"translate(2.598, 4.500)\" xlink:href=\"#cy\" /><use transform=\"translate(1.732, 5.000)\" xlink:href=\"#cy\" /><use transform=\"translate(0.000, 5.000)\" xlink:href=\"#cy\" /><use transform=\"translate(-1.732, 5.000)\" xlink:href=\"#cy\" /><use transform=\"translate(-3.464, 5.000)\" xlink:href=\"#cy\" /><use transform=\"translate(-4.330, 5.500)\" xlink:href=\"#cy\" /><use transform=\"translate(8.660, 3.000)\" xlink:href=\"#cy\" /><use transform=\"translate(6.928, 3.000)\" xlink:href=\"#cy\" /><use transform=\"translate(6.062, 3.500)\" xlink:href=\"#cy\" /><use transform=\"translate(3.464, 3.000)\" xlink:href=\"#cy\" /><use transform=\"translate(1.732, 3.000)\" xlink:href=\"#cy\" /><use transform=\"translate(0.000, 3.000)\" xlink:href=\"#cy\" /><use transform=\"translate(-0.866, 3.500)\" xlink:href=\"#cy\" /><use transform=\"translate(-1.732, 4.000)\" xlink:href=\"#cy\" /><use transform=\"translate(-4.330, 3.500)\" xlink:href=\"#cy\" /><use transform=\"translate(-5.196, 4.000)\" xlink:href=\"#cy\" /><use transform=\"translate(7.794, 1.500)\" xlink:href=\"#cy\" /><use transform=\"translate(6.062, 1.500)\" xlink:href=\"#cy\" /><use transform=\"translate(4.330, 1.500)\" xlink:href=\"#cy\" /><use transform=\"translate(3.464, 2.000)\" xlink:href=\"#cy\" /><use transform=\"translate(0.866, 1.500)\" xlink:href=\"#cy\" /><use transform=\"translate(0.000, 2.000)\" xlink:href=\"#cy\" /><use transform=\"translate(-0.866, 2.500)\" xlink:href=\"#cy\" /><use transform=\"translate(-2.598, 2.500)\" xlink:href=\"#cy\" /><use transform=\"translate(-4.330, 2.500)\" xlink:href=\"#cy\" /><use transform=\"translate(-6.062, 2.500)\" xlink:href=\"#cy\" /><use transform=\"translate(6.928, 0.000)\" xlink:href=\"#cy\" /><use transform=\"translate(4.330, -0.500)\" xlink:href=\"#cy\" /><use transform=\"translate(3.464, 0.000)\" xlink:href=\"#cy\" /><use transform=\"translate(2.598, 0.500)\" xlink:href=\"#cy\" /><use transform=\"translate(0.866, 0.500)\" xlink:href=\"#cy\" /><use transform=\"translate(0.000, 1.000)\" xlink:href=\"#cy\" /><use transform=\"translate(-1.732, 1.000)\" xlink:href=\"#cy\" /><use transform=\"translate(-2.598, 1.500)\" xlink:href=\"#cy\" /><use transform=\"translate(6.928, -1.000)\" xlink:href=\"#cy\" /><use transform=\"translate(4.330, -1.500)\" xlink:href=\"#cy\" /><use transform=\"translate(3.464, -1.000)\" xlink:href=\"#cy\" /><use transform=\"translate(1.732, -1.000)\" xlink:href=\"#cy\" /><use transform=\"translate(0.866, -0.500)\" xlink:href=\"#cy\" /><use transform=\"translate(-1.732, -1.000)\" xlink:href=\"#cy\" /><use transform=\"translate(-4.330, -1.500)\" xlink:href=\"#cy\" /><use transform=\"translate(-5.196, -1.000)\" xlink:href=\"#cy\" /><use transform=\"translate(6.062, -2.500)\" xlink:href=\"#cy\" /><use transform=\"translate(3.464, -3.000)\" xlink:href=\"#cy\" /><use transform=\"translate(2.598, -2.500)\" xlink:href=\"#cy\" /><use transform=\"translate(0.866, -2.500)\" xlink:href=\"#cy\" /><use transform=\"translate(-2.598, -3.500)\" xlink:href=\"#cy\" /><use transform=\"translate(5.196, -4.000)\" xlink:href=\"#cy\" /><use transform=\"translate(3.464, -4.000)\" xlink:href=\"#cy\" /><use transform=\"translate(2.598, -3.500)\" xlink:href=\"#cy\" /><use transform=\"translate(0.000, -4.000)\" xlink:href=\"#cy\" /><use transform=\"translate(5.196, -5.000)\" xlink:href=\"#cy\" /><use transform=\"translate(3.464, -5.000)\" xlink:href=\"#cy\" /><use transform=\"translate(2.598, -4.500)\" xlink:href=\"#cy\" /><use transform=\"translate(-0.866, -5.500)\" xlink:href=\"#cy\" /><use transform=\"translate(4.330, -6.500)\" xlink:href=\"#cy\" /><use transform=\"translate(2.598, -6.500)\" xlink:href=\"#cy\" /><use transform=\"translate(0.000, -7.000)\" xlink:href=\"#cy\" /><use transform=\"translate(-1.732, -7.000)\" xlink:href=\"#cy\" /><use transform=\"translate(-8.660, 5.000)\" xlink:href=\"#cx\" /><use transform=\"translate(-8.660, 4.000)\" xlink:href=\"#cx\" /><use transform=\"translate(-8.660, 3.000)\" xlink:href=\"#cx\" /><use transform=\"translate(-8.660, 2.000)\" xlink:href=\"#cx\" /><use transform=\"translate(-6.928, 0.000)\" xlink:href=\"#cx\" /><use transform=\"translate(-6.928, -1.000)\" xlink:href=\"#cx\" /><use transform=\"translate(-4.330, -3.500)\" xlink:href=\"#cx\" /><use transform=\"translate(-3.464, -5.000)\" xlink:href=\"#cx\" /><use transform=\"translate(-3.464, -6.000)\" xlink:href=\"#cx\" /><use transform=\"translate(-3.464, -7.000)\" xlink:href=\"#cx\" /><use transform=\"translate(-7.794, 5.500)\" xlink:href=\"#cx\" /><use transform=\"translate(-7.794, 4.500)\" xlink:href=\"#cx\" /><use transform=\"translate(-7.794, 3.500)\" xlink:href=\"#cx\" /><use transform=\"translate(-7.794, 2.500)\" xlink:href=\"#cx\" /><use transform=\"translate(-6.062, 0.500)\" xlink:href=\"#cx\" /><use transform=\"translate(-4.330, -1.500)\" xlink:href=\"#cx\" /><use transform=\"translate(-2.598, -3.500)\" xlink:href=\"#cx\" /><use transform=\"translate(-2.598, -4.500)\" xlink:href=\"#cx\" /><use transform=\"translate(-2.598, -5.500)\" xlink:href=\"#cx\" /><use transform=\"translate(-1.732, -7.000)\" xlink:href=\"#cx\" /><use transform=\"translate(-6.928, 6.000)\" xlink:href=\"#cx\" /><use transform=\"translate(-6.928, 5.000)\" xlink:href=\"#cx\" /><use transform=\"translate(-6.928, 4.000)\" xlink:href=\"#cx\" /><use transform=\"translate(-6.062, 2.500)\" xlink:href=\"#cx\" /><use transform=\"translate(-5.196, 1.000)\" xlink:href=\"#cx\" /><use transform=\"translate(-3.464, -1.000)\" xlink:href=\"#cx\" /><use transform=\"translate(-1.732, -3.000)\" xlink:href=\"#cx\" /><use transform=\"translate(-1.732, -4.000)\" xlink:href=\"#cx\" /><use transform=\"translate(-0.866, -5.500)\" xlink:href=\"#cx\" /><use transform=\"translate(0.000, -7.000)\" xlink:href=\"#cx\" /><use transform=\"translate(-6.062, 6.500)\" xlink:href=\"#cx\" /><use transform=\"translate(-6.062, 5.500)\" xlink:href=\"#cx\" /><use transform=\"translate(-4.330, 3.500)\" xlink:href=\"#cx\" /><use transform=\"translate(-4.330, 2.500)\" xlink:href=\"#cx\" /><use transform=\"translate(-4.330, 1.500)\" xlink:href=\"#cx\" /><use transform=\"translate(-1.732, -1.000)\" xlink:href=\"#cx\" /><use transform=\"translate(-0.866, -2.500)\" xlink:href=\"#cx\" /><use transform=\"translate(0.000, -4.000)\" xlink:href=\"#cx\" /><use transform=\"translate(0.000, -5.000)\" xlink:href=\"#cx\" /><use transform=\"translate(0.866, -6.500)\" xlink:href=\"#cx\" /><use transform=\"translate(-3.464, 6.000)\" xlink:href=\"#cx\" /><use transform=\"translate(-3.464, 5.000)\" xlink:href=\"#cx\" /><use transform=\"translate(-3.464, 4.000)\" xlink:href=\"#cx\" /><use transform=\"translate(-2.598, 2.500)\" xlink:href=\"#cx\" /><use transform=\"translate(-1.732, 1.000)\" xlink:href=\"#cx\" /><use transform=\"translate(-0.866, -0.500)\" xlink:href=\"#cx\" /><use transform=\"translate(0.866, -2.500)\" xlink:href=\"#cx\" /><use transform=\"translate(0.866, -3.500)\" xlink:href=\"#cx\" /><use transform=\"translate(0.866, -4.500)\" xlink:href=\"#cx\" /><use transform=\"translate(2.598, -6.500)\" xlink:href=\"#cx\" /><use transform=\"translate(-2.598, 6.500)\" xlink:href=\"#cx\" /><use transform=\"translate(-1.732, 5.000)\" xlink:href=\"#cx\" /><use transform=\"translate(0.000, 3.000)\" xlink:href=\"#cx\" /><use transform=\"translate(0.866, 1.500)\" xlink:href=\"#cx\" /><use transform=\"translate(0.866, 0.500)\" xlink:href=\"#cx\" /><use transform=\"translate(1.732, -1.000)\" xlink:href=\"#cx\" /><use transform=\"translate(3.464, -3.000)\" xlink:href=\"#cx\" /><use transform=\"translate(3.464, -4.000)\" xlink:href=\"#cx\" /><use transform=\"translate(3.464, -5.000)\" xlink:href=\"#cx\" /><use transform=\"translate(0.000, 6.000)\" xlink:href=\"#cx\" /><use transform=\"translate(0.000, 5.000)\" xlink:href=\"#cx\" /><use transform=\"translate(1.732, 3.000)\" xlink:href=\"#cx\" /><use transform=\"translate(1.732, 2.000)\" xlink:href=\"#cx\" /><use transform=\"translate(4.330, -0.500)\" xlink:href=\"#cx\" /><use transform=\"translate(4.330, -1.500)\" xlink:href=\"#cx\" /><use transform=\"translate(4.330, -2.500)\" xlink:href=\"#cx\" /><use transform=\"translate(0.866, 6.500)\" xlink:href=\"#cx\" /><use transform=\"translate(3.464, 4.000)\" xlink:href=\"#cx\" /><use transform=\"translate(3.464, 3.000)\" xlink:href=\"#cx\" /><use transform=\"translate(4.330, 1.500)\" xlink:href=\"#cx\" /><use transform=\"translate(5.196, 0.000)\" xlink:href=\"#cx\" /><use transform=\"translate(5.196, -1.000)\" xlink:href=\"#cx\" /><use transform=\"translate(2.598, 6.500)\" xlink:href=\"#cx\" /><use transform=\"translate(4.330, 4.500)\" xlink:href=\"#cx\" /><use transform=\"translate(4.330, 3.500)\" xlink:href=\"#cx\" /><use transform=\"translate(6.062, 1.500)\" xlink:href=\"#cx\" /><use transform=\"translate(6.928, 5.000)\" xlink:href=\"#cx\" /><use transform=\"translate(6.928, 4.000)\" xlink:href=\"#cx\" /><use transform=\"translate(6.928, 3.000)\" xlink:href=\"#cx\" /></g></svg>"
      ],
      "text/plain": [
       "Plane partition [[10, 10, 10, 10, 10, 9, 7, 6, 4, 3], [10, 10, 10, 10, 9, 6, 4, 4, 3], [10, 10, 9, 9, 9, 6, 4, 3, 3], [10, 9, 8, 7, 6, 5, 4, 1, 1], [7, 6, 6, 6, 6, 3, 2, 1, 1], [6, 6, 6, 5, 5, 2, 2, 1], [6, 5, 5, 5, 4, 2], [6, 5, 5, 5, 3, 1], [4, 4, 4, 2], [4, 4, 3, 2]]"
      ]
     },
     "execution_count": 6,
     "metadata": {},
     "output_type": "execute_result"
    }
   ],
   "source": [
    "P = PlanePartitionSampler(size=10)\n",
    "for step in range(100000):\n",
    "    P.one_step()\n",
    "PlanePartition(P.plane_partition)"
   ]
  },
  {
   "cell_type": "code",
   "execution_count": null,
   "metadata": {},
   "outputs": [],
   "source": []
  },
  {
   "cell_type": "code",
   "execution_count": null,
   "metadata": {},
   "outputs": [],
   "source": []
  },
  {
   "cell_type": "code",
   "execution_count": null,
   "metadata": {},
   "outputs": [],
   "source": []
  },
  {
   "cell_type": "code",
   "execution_count": null,
   "metadata": {},
   "outputs": [],
   "source": []
  },
  {
   "cell_type": "code",
   "execution_count": null,
   "metadata": {},
   "outputs": [],
   "source": []
  }
 ],
 "metadata": {
  "kernelspec": {
   "display_name": "SageMath 10.5",
   "language": "sage",
   "name": "SageMath-10.5"
  },
  "language_info": {
   "codemirror_mode": {
    "name": "ipython",
    "version": 3
   },
   "file_extension": ".py",
   "mimetype": "text/x-python",
   "name": "python",
   "nbconvert_exporter": "python",
   "pygments_lexer": "ipython3",
   "version": "3.12.5"
  }
 },
 "nbformat": 4,
 "nbformat_minor": 4
}
