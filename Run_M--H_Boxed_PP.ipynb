{
 "cells": [
  {
   "cell_type": "code",
   "execution_count": 2,
   "metadata": {
    "collapsed": false,
    "jupyter": {
     "outputs_hidden": false
    }
   },
   "outputs": [],
   "source": [
    "# Import the py file with all of the required functions.\n",
    "load(\"Objects_for_M--H_Boxed_PP.sage\")"
   ]
  },
  {
   "cell_type": "markdown",
   "metadata": {},
   "source": [
    "Running the cell below generates a picture of a boxed plane partition by taking steps in distribution of boxed plane partitions according to the Metropolis--Hastings algorithm. Set the size to be the box size you'd like your plane partition to live in and set the number of steps inside the second line to be the number of moves you'd like the algorithm to take. Make sure you load in the required objects above first!"
   ]
  },
  {
   "cell_type": "code",
   "execution_count": 4,
   "metadata": {},
   "outputs": [
    {
     "data": {
      "image/svg+xml": [
       "<?xml version=\"1.0\" standalone=\"no\"?><!DOCTYPE svg PUBLIC \"-//W3C//DTD SVG 1.1//EN\" \"http://www.w3.org/Graphics/SVG/1.1/DTD/svg11.dtd\"><svg xmlns=\"http://www.w3.org/2000/svg\" xmlns:xlink=\"http://www.w3.org/1999/xlink\" width=\"300\" viewBox=\"-8.660 -10.000 17.320 20.000 \"><defs><polygon points=\"0, 0 -0.866, 0.5 0, 1 0.866, 0.5\" id=\"cz\" style=\"fill:snow\"/><polygon points=\"0, 0 0.866, 0.5 0.866, -0.5 0, -1\" id=\"cx\" style=\"fill:tomato\"/><polygon points=\"0, 0 0, -1 -0.866, -0.5 -0.866, 0.5\" id=\"cy\" style=\"fill:steelblue\"/></defs><g style=\"stroke-width:0.01;stroke-linejoin:bevel; stroke-linecap:butt; stroke:black; fill:red\"><use transform=\"translate(0.000, -10.000)\" xlink:href=\"#cz\" /><use transform=\"translate(0.866, -9.500)\" xlink:href=\"#cz\" /><use transform=\"translate(1.732, -9.000)\" xlink:href=\"#cz\" /><use transform=\"translate(2.598, -8.500)\" xlink:href=\"#cz\" /><use transform=\"translate(3.464, -8.000)\" xlink:href=\"#cz\" /><use transform=\"translate(4.330, -7.500)\" xlink:href=\"#cz\" /><use transform=\"translate(5.196, -6.000)\" xlink:href=\"#cz\" /><use transform=\"translate(6.062, -4.500)\" xlink:href=\"#cz\" /><use transform=\"translate(6.928, -4.000)\" xlink:href=\"#cz\" /><use transform=\"translate(7.794, 3.500)\" xlink:href=\"#cz\" /><use transform=\"translate(-0.866, -9.500)\" xlink:href=\"#cz\" /><use transform=\"translate(0.000, -9.000)\" xlink:href=\"#cz\" /><use transform=\"translate(0.866, -7.500)\" xlink:href=\"#cz\" /><use transform=\"translate(1.732, -7.000)\" xlink:href=\"#cz\" /><use transform=\"translate(2.598, -6.500)\" xlink:href=\"#cz\" /><use transform=\"translate(3.464, -6.000)\" xlink:href=\"#cz\" /><use transform=\"translate(4.330, -3.500)\" xlink:href=\"#cz\" /><use transform=\"translate(5.196, -3.000)\" xlink:href=\"#cz\" /><use transform=\"translate(6.062, 2.500)\" xlink:href=\"#cz\" /><use transform=\"translate(6.928, 4.000)\" xlink:href=\"#cz\" /><use transform=\"translate(-1.732, -9.000)\" xlink:href=\"#cz\" /><use transform=\"translate(-0.866, -8.500)\" xlink:href=\"#cz\" /><use transform=\"translate(0.000, -7.000)\" xlink:href=\"#cz\" /><use transform=\"translate(0.866, -6.500)\" xlink:href=\"#cz\" /><use transform=\"translate(1.732, -6.000)\" xlink:href=\"#cz\" /><use transform=\"translate(2.598, -5.500)\" xlink:href=\"#cz\" /><use transform=\"translate(3.464, -1.000)\" xlink:href=\"#cz\" /><use transform=\"translate(4.330, -0.500)\" xlink:href=\"#cz\" /><use transform=\"translate(5.196, 3.000)\" xlink:href=\"#cz\" /><use transform=\"translate(6.062, 4.500)\" xlink:href=\"#cz\" /><use transform=\"translate(-2.598, -8.500)\" xlink:href=\"#cz\" /><use transform=\"translate(-1.732, -8.000)\" xlink:href=\"#cz\" /><use transform=\"translate(-0.866, -6.500)\" xlink:href=\"#cz\" /><use transform=\"translate(0.000, -5.000)\" xlink:href=\"#cz\" /><use transform=\"translate(0.866, -3.500)\" xlink:href=\"#cz\" /><use transform=\"translate(1.732, -1.000)\" xlink:href=\"#cz\" /><use transform=\"translate(2.598, 0.500)\" xlink:href=\"#cz\" /><use transform=\"translate(3.464, 3.000)\" xlink:href=\"#cz\" /><use transform=\"translate(4.330, 4.500)\" xlink:href=\"#cz\" /><use transform=\"translate(5.196, 5.000)\" xlink:href=\"#cz\" /><use transform=\"translate(-3.464, -8.000)\" xlink:href=\"#cz\" /><use transform=\"translate(-2.598, -7.500)\" xlink:href=\"#cz\" /><use transform=\"translate(-1.732, -6.000)\" xlink:href=\"#cz\" /><use transform=\"translate(-0.866, -3.500)\" xlink:href=\"#cz\" /><use transform=\"translate(0.000, -3.000)\" xlink:href=\"#cz\" /><use transform=\"translate(0.866, -0.500)\" xlink:href=\"#cz\" /><use transform=\"translate(1.732, 3.000)\" xlink:href=\"#cz\" /><use transform=\"translate(2.598, 3.500)\" xlink:href=\"#cz\" /><use transform=\"translate(-4.330, -7.500)\" xlink:href=\"#cz\" /><use transform=\"translate(-3.464, -7.000)\" xlink:href=\"#cz\" /><use transform=\"translate(-2.598, -5.500)\" xlink:href=\"#cz\" /><use transform=\"translate(-1.732, -3.000)\" xlink:href=\"#cz\" /><use transform=\"translate(-0.866, -1.500)\" xlink:href=\"#cz\" /><use transform=\"translate(0.000, 0.000)\" xlink:href=\"#cz\" /><use transform=\"translate(0.866, 3.500)\" xlink:href=\"#cz\" /><use transform=\"translate(-5.196, -7.000)\" xlink:href=\"#cz\" /><use transform=\"translate(-4.330, -6.500)\" xlink:href=\"#cz\" /><use transform=\"translate(-3.464, -4.000)\" xlink:href=\"#cz\" /><use transform=\"translate(-2.598, -1.500)\" xlink:href=\"#cz\" /><use transform=\"translate(-1.732, 0.000)\" xlink:href=\"#cz\" /><use transform=\"translate(-0.866, 0.500)\" xlink:href=\"#cz\" /><use transform=\"translate(0.000, 4.000)\" xlink:href=\"#cz\" /><use transform=\"translate(-6.062, -5.500)\" xlink:href=\"#cz\" /><use transform=\"translate(-5.196, -4.000)\" xlink:href=\"#cz\" /><use transform=\"translate(-4.330, -1.500)\" xlink:href=\"#cz\" /><use transform=\"translate(-3.464, 0.000)\" xlink:href=\"#cz\" /><use transform=\"translate(-2.598, 0.500)\" xlink:href=\"#cz\" /><use transform=\"translate(-1.732, 2.000)\" xlink:href=\"#cz\" /><use transform=\"translate(-6.928, -5.000)\" xlink:href=\"#cz\" /><use transform=\"translate(-6.062, -2.500)\" xlink:href=\"#cz\" /><use transform=\"translate(-5.196, -1.000)\" xlink:href=\"#cz\" /><use transform=\"translate(-4.330, 0.500)\" xlink:href=\"#cz\" /><use transform=\"translate(-3.464, 3.000)\" xlink:href=\"#cz\" /><use transform=\"translate(-2.598, 3.500)\" xlink:href=\"#cz\" /><use transform=\"translate(-7.794, -3.500)\" xlink:href=\"#cz\" /><use transform=\"translate(-6.928, 0.000)\" xlink:href=\"#cz\" /><use transform=\"translate(-6.062, 1.500)\" xlink:href=\"#cz\" /><use transform=\"translate(-5.196, 3.000)\" xlink:href=\"#cz\" /><use transform=\"translate(-4.330, 3.500)\" xlink:href=\"#cz\" /><use transform=\"translate(-3.464, 5.000)\" xlink:href=\"#cz\" /><use transform=\"translate(8.660, 5.000)\" xlink:href=\"#cy\" /><use transform=\"translate(7.794, 5.500)\" xlink:href=\"#cy\" /><use transform=\"translate(6.928, 6.000)\" xlink:href=\"#cy\" /><use transform=\"translate(6.062, 6.500)\" xlink:href=\"#cy\" /><use transform=\"translate(3.464, 6.000)\" xlink:href=\"#cy\" /><use transform=\"translate(1.732, 6.000)\" xlink:href=\"#cy\" /><use transform=\"translate(0.866, 6.500)\" xlink:href=\"#cy\" /><use transform=\"translate(-0.866, 6.500)\" xlink:href=\"#cy\" /><use transform=\"translate(-1.732, 7.000)\" xlink:href=\"#cy\" /><use transform=\"translate(-2.598, 7.500)\" xlink:href=\"#cy\" /><use transform=\"translate(7.794, 3.500)\" xlink:href=\"#cy\" /><use transform=\"translate(6.928, 4.000)\" xlink:href=\"#cy\" /><use transform=\"translate(6.062, 4.500)\" xlink:href=\"#cy\" /><use transform=\"translate(4.330, 4.500)\" xlink:href=\"#cy\" /><use transform=\"translate(3.464, 5.000)\" xlink:href=\"#cy\" /><use transform=\"translate(1.732, 5.000)\" xlink:href=\"#cy\" /><use transform=\"translate(0.866, 5.500)\" xlink:href=\"#cy\" /><use transform=\"translate(-0.866, 5.500)\" xlink:href=\"#cy\" /><use transform=\"translate(-1.732, 6.000)\" xlink:href=\"#cy\" /><use transform=\"translate(-2.598, 6.500)\" xlink:href=\"#cy\" /><use transform=\"translate(7.794, 2.500)\" xlink:href=\"#cy\" /><use transform=\"translate(6.062, 2.500)\" xlink:href=\"#cy\" /><use transform=\"translate(5.196, 3.000)\" xlink:href=\"#cy\" /><use transform=\"translate(3.464, 3.000)\" xlink:href=\"#cy\" /><use transform=\"translate(1.732, 3.000)\" xlink:href=\"#cy\" /><use transform=\"translate(0.866, 3.500)\" xlink:href=\"#cy\" /><use transform=\"translate(0.000, 4.000)\" xlink:href=\"#cy\" /><use transform=\"translate(-0.866, 4.500)\" xlink:href=\"#cy\" /><use transform=\"translate(-1.732, 5.000)\" xlink:href=\"#cy\" /><use transform=\"translate(-3.464, 5.000)\" xlink:href=\"#cy\" /><use transform=\"translate(7.794, 1.500)\" xlink:href=\"#cy\" /><use transform=\"translate(6.062, 1.500)\" xlink:href=\"#cy\" /><use transform=\"translate(5.196, 2.000)\" xlink:href=\"#cy\" /><use transform=\"translate(3.464, 2.000)\" xlink:href=\"#cy\" /><use transform=\"translate(1.732, 2.000)\" xlink:href=\"#cy\" /><use transform=\"translate(0.866, 2.500)\" xlink:href=\"#cy\" /><use transform=\"translate(0.000, 3.000)\" xlink:href=\"#cy\" /><use transform=\"translate(-0.866, 3.500)\" xlink:href=\"#cy\" /><use transform=\"translate(-3.464, 3.000)\" xlink:href=\"#cy\" /><use transform=\"translate(-5.196, 3.000)\" xlink:href=\"#cy\" /><use transform=\"translate(7.794, 0.500)\" xlink:href=\"#cy\" /><use transform=\"translate(6.062, 0.500)\" xlink:href=\"#cy\" /><use transform=\"translate(5.196, 1.000)\" xlink:href=\"#cy\" /><use transform=\"translate(2.598, 0.500)\" xlink:href=\"#cy\" /><use transform=\"translate(1.732, 1.000)\" xlink:href=\"#cy\" /><use transform=\"translate(0.866, 1.500)\" xlink:href=\"#cy\" /><use transform=\"translate(0.000, 2.000)\" xlink:href=\"#cy\" /><use transform=\"translate(-1.732, 2.000)\" xlink:href=\"#cy\" /><use transform=\"translate(-3.464, 2.000)\" xlink:href=\"#cy\" /><use transform=\"translate(-6.062, 1.500)\" xlink:href=\"#cy\" /><use transform=\"translate(7.794, -0.500)\" xlink:href=\"#cy\" /><use transform=\"translate(6.062, -0.500)\" xlink:href=\"#cy\" /><use transform=\"translate(3.464, -1.000)\" xlink:href=\"#cy\" /><use transform=\"translate(1.732, -1.000)\" xlink:href=\"#cy\" /><use transform=\"translate(0.866, -0.500)\" xlink:href=\"#cy\" /><use transform=\"translate(0.000, 0.000)\" xlink:href=\"#cy\" /><use transform=\"translate(-1.732, 0.000)\" xlink:href=\"#cy\" /><use transform=\"translate(-3.464, 0.000)\" xlink:href=\"#cy\" /><use transform=\"translate(-4.330, 0.500)\" xlink:href=\"#cy\" /><use transform=\"translate(-6.928, 0.000)\" xlink:href=\"#cy\" /><use transform=\"translate(7.794, -1.500)\" xlink:href=\"#cy\" /><use transform=\"translate(6.062, -1.500)\" xlink:href=\"#cy\" /><use transform=\"translate(3.464, -2.000)\" xlink:href=\"#cy\" /><use transform=\"translate(1.732, -2.000)\" xlink:href=\"#cy\" /><use transform=\"translate(0.866, -1.500)\" xlink:href=\"#cy\" /><use transform=\"translate(-0.866, -1.500)\" xlink:href=\"#cy\" /><use transform=\"translate(-2.598, -1.500)\" xlink:href=\"#cy\" /><use transform=\"translate(-4.330, -1.500)\" xlink:href=\"#cy\" /><use transform=\"translate(-5.196, -1.000)\" xlink:href=\"#cy\" /><use transform=\"translate(-6.928, -1.000)\" xlink:href=\"#cy\" /><use transform=\"translate(7.794, -2.500)\" xlink:href=\"#cy\" /><use transform=\"translate(4.330, -3.500)\" xlink:href=\"#cy\" /><use transform=\"translate(3.464, -3.000)\" xlink:href=\"#cy\" /><use transform=\"translate(0.866, -3.500)\" xlink:href=\"#cy\" /><use transform=\"translate(-0.866, -3.500)\" xlink:href=\"#cy\" /><use transform=\"translate(-1.732, -3.000)\" xlink:href=\"#cy\" /><use transform=\"translate(-2.598, -2.500)\" xlink:href=\"#cy\" /><use transform=\"translate(-4.330, -2.500)\" xlink:href=\"#cy\" /><use transform=\"translate(-6.062, -2.500)\" xlink:href=\"#cy\" /><use transform=\"translate(-6.928, -2.000)\" xlink:href=\"#cy\" /><use transform=\"translate(6.062, -4.500)\" xlink:href=\"#cy\" /><use transform=\"translate(4.330, -4.500)\" xlink:href=\"#cy\" /><use transform=\"translate(3.464, -4.000)\" xlink:href=\"#cy\" /><use transform=\"translate(0.000, -5.000)\" xlink:href=\"#cy\" /><use transform=\"translate(-0.866, -4.500)\" xlink:href=\"#cy\" /><use transform=\"translate(-1.732, -4.000)\" xlink:href=\"#cy\" /><use transform=\"translate(-3.464, -4.000)\" xlink:href=\"#cy\" /><use transform=\"translate(-5.196, -4.000)\" xlink:href=\"#cy\" /><use transform=\"translate(-6.062, -3.500)\" xlink:href=\"#cy\" /><use transform=\"translate(5.196, -6.000)\" xlink:href=\"#cy\" /><use transform=\"translate(0.866, -7.500)\" xlink:href=\"#cy\" /><use transform=\"translate(0.000, -7.000)\" xlink:href=\"#cy\" /><use transform=\"translate(-0.866, -6.500)\" xlink:href=\"#cy\" /><use transform=\"translate(-1.732, -6.000)\" xlink:href=\"#cy\" /><use transform=\"translate(-2.598, -5.500)\" xlink:href=\"#cy\" /><use transform=\"translate(-3.464, -5.000)\" xlink:href=\"#cy\" /><use transform=\"translate(-8.660, 5.000)\" xlink:href=\"#cx\" /><use transform=\"translate(-8.660, 4.000)\" xlink:href=\"#cx\" /><use transform=\"translate(-8.660, 3.000)\" xlink:href=\"#cx\" /><use transform=\"translate(-8.660, 2.000)\" xlink:href=\"#cx\" /><use transform=\"translate(-8.660, 1.000)\" xlink:href=\"#cx\" /><use transform=\"translate(-8.660, 0.000)\" xlink:href=\"#cx\" /><use transform=\"translate(-8.660, -1.000)\" xlink:href=\"#cx\" /><use transform=\"translate(-8.660, -2.000)\" xlink:href=\"#cx\" /><use transform=\"translate(-7.794, -3.500)\" xlink:href=\"#cx\" /><use transform=\"translate(-6.062, -5.500)\" xlink:href=\"#cx\" /><use transform=\"translate(-7.794, 5.500)\" xlink:href=\"#cx\" /><use transform=\"translate(-7.794, 4.500)\" xlink:href=\"#cx\" /><use transform=\"translate(-7.794, 3.500)\" xlink:href=\"#cx\" /><use transform=\"translate(-7.794, 2.500)\" xlink:href=\"#cx\" /><use transform=\"translate(-7.794, 1.500)\" xlink:href=\"#cx\" /><use transform=\"translate(-6.928, 0.000)\" xlink:href=\"#cx\" /><use transform=\"translate(-6.928, -1.000)\" xlink:href=\"#cx\" /><use transform=\"translate(-6.062, -2.500)\" xlink:href=\"#cx\" /><use transform=\"translate(-5.196, -4.000)\" xlink:href=\"#cx\" /><use transform=\"translate(-5.196, -5.000)\" xlink:href=\"#cx\" /><use transform=\"translate(-6.928, 6.000)\" xlink:href=\"#cx\" /><use transform=\"translate(-6.928, 5.000)\" xlink:href=\"#cx\" /><use transform=\"translate(-6.928, 4.000)\" xlink:href=\"#cx\" /><use transform=\"translate(-6.928, 3.000)\" xlink:href=\"#cx\" /><use transform=\"translate(-6.062, 1.500)\" xlink:href=\"#cx\" /><use transform=\"translate(-6.062, 0.500)\" xlink:href=\"#cx\" /><use transform=\"translate(-4.330, -1.500)\" xlink:href=\"#cx\" /><use transform=\"translate(-4.330, -2.500)\" xlink:href=\"#cx\" /><use transform=\"translate(-3.464, -4.000)\" xlink:href=\"#cx\" /><use transform=\"translate(0.866, -7.500)\" xlink:href=\"#cx\" /><use transform=\"translate(-6.062, 6.500)\" xlink:href=\"#cx\" /><use transform=\"translate(-6.062, 5.500)\" xlink:href=\"#cx\" /><use transform=\"translate(-6.062, 4.500)\" xlink:href=\"#cx\" /><use transform=\"translate(-5.196, 3.000)\" xlink:href=\"#cx\" /><use transform=\"translate(-5.196, 2.000)\" xlink:href=\"#cx\" /><use transform=\"translate(-3.464, 0.000)\" xlink:href=\"#cx\" /><use transform=\"translate(-2.598, -1.500)\" xlink:href=\"#cx\" /><use transform=\"translate(-0.866, -3.500)\" xlink:href=\"#cx\" /><use transform=\"translate(0.000, -5.000)\" xlink:href=\"#cx\" /><use transform=\"translate(1.732, -7.000)\" xlink:href=\"#cx\" /><use transform=\"translate(-5.196, 7.000)\" xlink:href=\"#cx\" /><use transform=\"translate(-5.196, 6.000)\" xlink:href=\"#cx\" /><use transform=\"translate(-5.196, 5.000)\" xlink:href=\"#cx\" /><use transform=\"translate(-3.464, 3.000)\" xlink:href=\"#cx\" /><use transform=\"translate(-3.464, 2.000)\" xlink:href=\"#cx\" /><use transform=\"translate(-1.732, 0.000)\" xlink:href=\"#cx\" /><use transform=\"translate(-0.866, -1.500)\" xlink:href=\"#cx\" /><use transform=\"translate(0.866, -3.500)\" xlink:href=\"#cx\" /><use transform=\"translate(0.866, -4.500)\" xlink:href=\"#cx\" /><use transform=\"translate(2.598, -6.500)\" xlink:href=\"#cx\" /><use transform=\"translate(-4.330, 7.500)\" xlink:href=\"#cx\" /><use transform=\"translate(-4.330, 6.500)\" xlink:href=\"#cx\" /><use transform=\"translate(-3.464, 5.000)\" xlink:href=\"#cx\" /><use transform=\"translate(-2.598, 3.500)\" xlink:href=\"#cx\" /><use transform=\"translate(-1.732, 2.000)\" xlink:href=\"#cx\" /><use transform=\"translate(1.732, -1.000)\" xlink:href=\"#cx\" /><use transform=\"translate(1.732, -2.000)\" xlink:href=\"#cx\" /><use transform=\"translate(1.732, -3.000)\" xlink:href=\"#cx\" /><use transform=\"translate(1.732, -4.000)\" xlink:href=\"#cx\" /><use transform=\"translate(3.464, -6.000)\" xlink:href=\"#cx\" /><use transform=\"translate(-0.866, 6.500)\" xlink:href=\"#cx\" /><use transform=\"translate(-0.866, 5.500)\" xlink:href=\"#cx\" /><use transform=\"translate(1.732, 3.000)\" xlink:href=\"#cx\" /><use transform=\"translate(1.732, 2.000)\" xlink:href=\"#cx\" /><use transform=\"translate(2.598, 0.500)\" xlink:href=\"#cx\" /><use transform=\"translate(3.464, -1.000)\" xlink:href=\"#cx\" /><use transform=\"translate(3.464, -2.000)\" xlink:href=\"#cx\" /><use transform=\"translate(4.330, -3.500)\" xlink:href=\"#cx\" /><use transform=\"translate(4.330, -4.500)\" xlink:href=\"#cx\" /><use transform=\"translate(1.732, 6.000)\" xlink:href=\"#cx\" /><use transform=\"translate(1.732, 5.000)\" xlink:href=\"#cx\" /><use transform=\"translate(3.464, 3.000)\" xlink:href=\"#cx\" /><use transform=\"translate(3.464, 2.000)\" xlink:href=\"#cx\" /><use transform=\"translate(3.464, 1.000)\" xlink:href=\"#cx\" /><use transform=\"translate(4.330, -0.500)\" xlink:href=\"#cx\" /><use transform=\"translate(4.330, -1.500)\" xlink:href=\"#cx\" /><use transform=\"translate(5.196, -3.000)\" xlink:href=\"#cx\" /><use transform=\"translate(3.464, 6.000)\" xlink:href=\"#cx\" /><use transform=\"translate(4.330, 4.500)\" xlink:href=\"#cx\" /><use transform=\"translate(6.062, 2.500)\" xlink:href=\"#cx\" /><use transform=\"translate(6.062, 1.500)\" xlink:href=\"#cx\" /><use transform=\"translate(6.062, 0.500)\" xlink:href=\"#cx\" /><use transform=\"translate(6.062, -0.500)\" xlink:href=\"#cx\" /><use transform=\"translate(6.062, -1.500)\" xlink:href=\"#cx\" /><use transform=\"translate(6.062, -2.500)\" xlink:href=\"#cx\" /><use transform=\"translate(4.330, 6.500)\" xlink:href=\"#cx\" /></g></svg>"
      ],
      "text/plain": [
       "Plane partition [[10, 10, 10, 10, 10, 10, 9, 8, 8, 1], [10, 10, 9, 9, 9, 9, 7, 7, 2, 1], [10, 10, 9, 9, 9, 9, 5, 5, 2, 1], [10, 10, 9, 8, 7, 5, 4, 2, 1, 1], [10, 10, 9, 7, 7, 5, 2, 2], [10, 10, 9, 7, 6, 5, 2], [10, 10, 8, 6, 5, 5, 2], [9, 8, 6, 5, 5, 4], [9, 7, 6, 5, 3, 3], [8, 5, 4, 3, 3, 2]]"
      ]
     },
     "execution_count": 4,
     "metadata": {},
     "output_type": "execute_result"
    }
   ],
   "source": [
    "P = PlanePartitionSampler(size=10)\n",
    "for step in range(100000):\n",
    "    P.one_step()\n",
    "PlanePartition(P.plane_partition)"
   ]
  },
  {
   "cell_type": "markdown",
   "metadata": {},
   "source": [
    "To just see the array of the plane partition you've made, run the following cell."
   ]
  },
  {
   "cell_type": "code",
   "execution_count": 7,
   "metadata": {},
   "outputs": [
    {
     "data": {
      "text/plain": [
       "array([[10, 10, 10, 10, 10, 10,  9,  8,  8,  1],\n",
       "       [10, 10,  9,  9,  9,  9,  7,  7,  2,  1],\n",
       "       [10, 10,  9,  9,  9,  9,  5,  5,  2,  1],\n",
       "       [10, 10,  9,  8,  7,  5,  4,  2,  1,  1],\n",
       "       [10, 10,  9,  7,  7,  5,  2,  2,  0,  0],\n",
       "       [10, 10,  9,  7,  6,  5,  2,  0,  0,  0],\n",
       "       [10, 10,  8,  6,  5,  5,  2,  0,  0,  0],\n",
       "       [ 9,  8,  6,  5,  5,  4,  0,  0,  0,  0],\n",
       "       [ 9,  7,  6,  5,  3,  3,  0,  0,  0,  0],\n",
       "       [ 8,  5,  4,  3,  3,  2,  0,  0,  0,  0]])"
      ]
     },
     "execution_count": 7,
     "metadata": {},
     "output_type": "execute_result"
    }
   ],
   "source": [
    "P.plane_partition"
   ]
  },
  {
   "cell_type": "code",
   "execution_count": null,
   "metadata": {},
   "outputs": [],
   "source": []
  },
  {
   "cell_type": "code",
   "execution_count": null,
   "metadata": {},
   "outputs": [],
   "source": []
  },
  {
   "cell_type": "code",
   "execution_count": null,
   "metadata": {},
   "outputs": [],
   "source": []
  }
 ],
 "metadata": {
  "kernelspec": {
   "display_name": "SageMath 10.5",
   "language": "sage",
   "name": "SageMath-10.5"
  },
  "language_info": {
   "codemirror_mode": {
    "name": "ipython",
    "version": 3
   },
   "file_extension": ".py",
   "mimetype": "text/x-python",
   "name": "python",
   "nbconvert_exporter": "python",
   "pygments_lexer": "ipython3",
   "version": "3.12.5"
  }
 },
 "nbformat": 4,
 "nbformat_minor": 4
}
